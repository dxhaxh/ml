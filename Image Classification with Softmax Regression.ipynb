{
 "cells": [
  {
   "cell_type": "code",
   "execution_count": 1,
   "metadata": {},
   "outputs": [],
   "source": [
    "import numpy as np\n",
    "%matplotlib inline\n",
    "import matplotlib.pyplot as plt \n",
    "from IPython.core.debugger import set_trace #this is used for debugging\n",
    "np.random.seed(1234) "
   ]
  },
  {
   "cell_type": "markdown",
   "metadata": {},
   "source": [
    "### Implementation of the Gradient\n",
    "We implement the gradient function in the code below. We want the entire gradient, in the form of a matrix, the same shape as $W$. Note that although gradient is generally in the form of a vector, here, for convenience we are keeping its shape the same as the weight matrix, rather than converting it to a vector. The mathematical expression for the gradient, when using the design matrix $X$, and the one-hot coding of labels $y$ is:\n",
    "\n",
    "$$\n",
    " g = \\frac{1}{N} X^\\top (\\mathcal{S}(X w) - y) \n",
    "$$"
   ]
  },
  {
   "cell_type": "code",
   "execution_count": 2,
   "metadata": {},
   "outputs": [],
   "source": [
    "def softmax(z):\n",
    "    ''' \n",
    "    calculate the softmax function along the last dimension\n",
    "    '''\n",
    "    z0 = np.max(z,-1, keepdims=True) \n",
    "    z_exp = np.exp(z - z0) #to prevent underflow/overflow\n",
    "    p = z_exp / np.sum(z_exp, -1, keepdims=True)\n",
    "    return p\n",
    "\n",
    "def cost(\n",
    "    x, # N x D \n",
    "    yhot, # N x C: one hot coding of the labels\n",
    "    w # D x C\n",
    "        ):\n",
    "    N, D = x.shape                    \n",
    "    p = np.softmax(x @ w)\n",
    "    ce_loss = -np.mean(np.sum(yhot * np.log(p), -1)) # the cost function L discussed above\n",
    "    return ce_loss\n",
    "\n",
    "def gradient(\n",
    "    x, # NxD\n",
    "    yhot, # NxC\n",
    "    w # DxC\n",
    "        ):\n",
    "    \n",
    "    N, D = x.shape\n",
    "    grad = (1/N) * x.transpose() @ (softmax(x @ w) - yhot)\n",
    "    \n",
    "    return grad  # D x C matrix: the same shape as the weight matrix w\n"
   ]
  },
  {
   "cell_type": "markdown",
   "metadata": {},
   "source": [
    "## Image Classification using Softmax Regression\n",
    "We want to implement softmax regression, including the stochastic gradient descent using momentum to fit the training data. Our training data is in the form of $8x8$ image of digits 0,1,2,...,9. Therefore each input $x$ has 64 features corresponding to pixel values. The input to our classifier is therefore a vector of length 64, and the output is class probabilities. Let's load this dataset and split the data into train and test."
   ]
  },
  {
   "cell_type": "code",
   "execution_count": 3,
   "metadata": {},
   "outputs": [
    {
     "data": {
      "image/png": "[encoded data removed]",
      "text/plain": [
       "<Figure size 2000x20000 with 40 Axes>"
      ]
     },
     "metadata": {},
     "output_type": "display_data"
    }
   ],
   "source": [
    "from sklearn.datasets import load_digits\n",
    "from mpl_toolkits.axes_grid1 import ImageGrid                         #To plot the images in grid \n",
    "\n",
    "x, y = load_digits(return_X_y=True)\n",
    "split = (80,20) # percentage for train, and test split\n",
    "n = x.shape[0]\n",
    "n_tr, n_ts = n*split[0]//100, n*split[1]//100\n",
    "x_tr, x_ts = x[:n_tr], x[n_tr:n_tr+n_ts] \n",
    "y_tr, y_ts = y[:n_tr], y[n_tr:n_tr+n_ts] \n",
    "\n",
    "def plot_digits(x,y):\n",
    "    num_plots = x.shape[0]\n",
    "    fig = plt.figure(figsize=(num_plots, 10.*num_plots))\n",
    "    grid = ImageGrid(fig, 111, nrows_ncols=(1, num_plots), axes_pad=0.1)\n",
    "    for i in range(num_plots):\n",
    "        grid[i].imshow(x[i].reshape((8,8)))\n",
    "        grid[i].set_title(str(y[i]))\n",
    "    plt.show()\n",
    "plot_digits(x[:20], y[:20])  #plot 20 first instances in the dataset "
   ]
  },
  {
   "cell_type": "markdown",
   "metadata": {},
   "source": [
    "### Gradient Descent with Momentum\n",
    "Below we complete the implementation of the gradient descent using momentum. We have a class that records hyper-parameters of the optimization including learning rate and momentum parameter, as well as the gradient function `grad_fn`. Each call to the step function should update the input weight `w` by calculating the gradient and using the exponential running average of the past gradients that is stored in `m`. The updated weight `wp` is returned by the `step` method."
   ]
  },
  {
   "cell_type": "code",
   "execution_count": 4,
   "metadata": {},
   "outputs": [],
   "source": [
    "class MomentumOpt:\n",
    "    '''\n",
    "    Implements the method of momentum for linear regression and classification.\n",
    "    Each step takes the gradient function and its arguments, including w_{t} as input, \n",
    "    updates the exponential running average of gradients and returns w_{t+1}.\n",
    "    '''\n",
    "    def __init__(self, grad_fn, learning_rate=.001, beta = .95):\n",
    "        self.grad_fn = grad_fn # the gradient function: grad_fn(x,y, w)\n",
    "        self.learning_rate = learning_rate\n",
    "        self.beta = beta\n",
    "        self.m = None #the exponential running average of gradients\n",
    "            \n",
    "    def step(\n",
    "        self, \n",
    "        x, # N x D \n",
    "        yhot, # N x C\n",
    "        w # D+1 is the w at current time step. The first element w_0 is the bias and the rest are the weights \n",
    "        ):\n",
    "        \n",
    "        if type(self.m)==type(None):\n",
    "            self.m = (1-self.beta)*self.grad_fn(x, yhot, w)\n",
    "        else:\n",
    "            self.m = self.beta*self.m + (1-self.beta)*self.grad_fn(x, yhot, w)\n",
    "                 \n",
    "        wp = w-self.learning_rate*self.m\n",
    "        \n",
    "        return wp"
   ]
  },
  {
   "cell_type": "markdown",
   "metadata": {},
   "source": [
    "### Training Using Mini-Batch of Data\n",
    "Now, we are ready to implement the `SoftmaxRegression` class. We have two methods, `fit`, which fits the training data by finding the model parameter `w` that minimizes the empirical risk, and the `predict` method which produces class probabilities for a given input.\n",
    "\n",
    "Here, for the training we want to use mini-batch of size `minibatch`. Each gradient step that is performed using the optimizer `step` function that we previously implemented, should therefore use a minibatch rather than the entire trainin data for its calculations. When training using mini-batch we use the term `epoch` rather than *iteration* to refer to several iterations using mini-batch that covers the entire training data once."
   ]
  },
  {
   "cell_type": "code",
   "execution_count": 5,
   "metadata": {},
   "outputs": [],
   "source": [
    "def onehot(x, C=None): \n",
    "    if C is None:\n",
    "        C = np.max(x) + 1\n",
    "    N = x.shape[0]\n",
    "    x_hot = np.zeros((N,C))\n",
    "    x_hot[np.arange(N), x] = 1 #use the value of x to index the last dimension\n",
    "    return x_hot \n",
    "\n",
    "class SoftmaxRegression:\n",
    "\n",
    "    def __init__(self, max_epochs = 1000, eps = 1e-3, minibatch=64):\n",
    "        self.max_epochs = max_epochs \n",
    "        self.eps = eps\n",
    "        self.b = minibatch\n",
    "        self.w = None # weights\n",
    "\n",
    "    def fit(self, x, y, optimizer):\n",
    "        yhot = onehot(y)\n",
    "        D, C = x_tr.shape[1], yhot.shape[1] \n",
    "        self.w = np.zeros((D,C))        \n",
    "        for epoch in range(self.max_epochs): \n",
    "            w_old = self.w\n",
    "            for i in range(n_tr//self.b): # update the weights using i'th mini-batch\n",
    "                \n",
    "                self.w = optimizer.step(x[i*self.b:(i+1)*self.b], yhot[i*self.b:(i+1)*self.b], self.w)\n",
    "                \n",
    "            if np.linalg.norm(self.w - w_old) < self.eps: # check for convergence\n",
    "                print(f'converged after {epoch} epochs!')\n",
    "                break\n",
    "        return self\n",
    "\n",
    "    def predict(self, x):\n",
    "        p = softmax(x @ self.w)  #predict probabilities \n",
    "        return p"
   ]
  },
  {
   "cell_type": "markdown",
   "metadata": {},
   "source": [
    "Next, print the training and test accuracy of the model using default hyper-parameters. Plot the confusion matrix on the test set (using either `scikit-learn` implementation or the one provided in the [Model Selection Tutorial](https://github.com/mravanba/comp451/blob/main/ModelSelection.ipynb)"
   ]
  },
  {
   "cell_type": "code",
   "execution_count": 7,
   "metadata": {},
   "outputs": [
    {
     "name": "stdout",
     "output_type": "stream",
     "text": [
      "converged after 516 epochs!\n",
      "training accuracy: 0.9972164231036882 \n",
      "test accuracy 0.9136490250696379\n"
     ]
    }
   ],
   "source": [
    "\n",
    "a, b = x_tr.shape\n",
    "x0 = np.ones((a, 1))\n",
    "x_tr = np.hstack((x0, x_tr))                     #adding column of 1's to x so sides match accounting for bias\n",
    "\n",
    "a, b = x_ts.shape\n",
    "x0 = np.ones((a, 1))\n",
    "x_ts = np.hstack((x0, x_ts))                     #adding column of 1's to x so sides match accounting for bias\n",
    "\n",
    "\n",
    "sfm=SoftmaxRegression()\n",
    "opt=MomentumOpt(gradient)\n",
    "\n",
    "sfm.fit(x_tr, y_tr, opt)\n",
    "\n",
    "probs_tr = sfm.predict(x_tr) #pred_tr is a vector of probabilities, we want to output the max probability\n",
    "pred_tr = np.argmax(probs_tr, -1)\n",
    "acc_tr = np.mean(pred_tr == y_tr)\n",
    "\n",
    "probs_ts = sfm.predict(x_ts)\n",
    "pred_ts = np.argmax(probs_ts, -1)\n",
    "acc_ts = np.mean(pred_ts == y_ts)\n",
    "\n",
    "print(f'training accuracy: {acc_tr} \\ntest accuracy {acc_ts}')\n"
   ]
  },
  {
   "cell_type": "code",
   "execution_count": 9,
   "metadata": {},
   "outputs": [
    {
     "name": "stdout",
     "output_type": "stream",
     "text": [
      "[[33.  0.  0.  0.  1.  0.  1.  0.  0.  0.]\n",
      " [ 0. 30.  0.  1.  0.  0.  0.  0.  0.  5.]\n",
      " [ 0.  0. 35.  0.  0.  0.  0.  0.  0.  0.]\n",
      " [ 0.  0.  1. 28.  0.  2.  0.  1.  5.  0.]\n",
      " [ 0.  0.  0.  0. 34.  0.  0.  0.  0.  3.]\n",
      " [ 0.  0.  0.  0.  0. 37.  0.  0.  0.  0.]\n",
      " [ 0.  1.  0.  0.  0.  0. 36.  0.  0.  0.]\n",
      " [ 0.  1.  0.  0.  0.  0.  0. 34.  1.  0.]\n",
      " [ 0.  2.  0.  0.  1.  1.  0.  0. 27.  1.]\n",
      " [ 0.  1.  0.  1.  0.  1.  0.  0.  0. 34.]]\n"
     ]
    }
   ],
   "source": [
    "def confusion_matrix(y, yh):\n",
    "    n_classes = np.max(y) + 1\n",
    "    c_matrix = np.zeros((n_classes, n_classes))\n",
    "    for c1 in range(n_classes):\n",
    "        for c2 in range(n_classes):\n",
    "            #(y==c1)*(yh==c2) is 1 when both conditions are true or 0\n",
    "            c_matrix[c1, c2] = np.sum((y==c1)*(yh==c2))\n",
    "    return c_matrix\n",
    "\n",
    "cmat = confusion_matrix(y_ts, pred_ts)\n",
    "print(cmat)"
   ]
  },
  {
   "cell_type": "code",
   "execution_count": null,
   "metadata": {},
   "outputs": [],
   "source": []
  }
 ],
 "metadata": {
  "kernelspec": {
   "display_name": "Python 3 (ipykernel)",
   "language": "python",
   "name": "python3"
  },
  "language_info": {
   "codemirror_mode": {
    "name": "ipython",
    "version": 3
   },
   "file_extension": ".py",
   "mimetype": "text/x-python",
   "name": "python",
   "nbconvert_exporter": "python",
   "pygments_lexer": "ipython3",
   "version": "3.11.4"
  },
  "vscode": {
   "interpreter": {
    "hash": "b0fa6594d8f4cbf19f97940f81e996739fb7646882a419484c72d19e05852a7e"
   }
  }
 },
 "nbformat": 4,
 "nbformat_minor": 2
}
